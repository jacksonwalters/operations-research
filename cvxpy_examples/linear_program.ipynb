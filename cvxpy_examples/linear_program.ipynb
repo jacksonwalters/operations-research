{
 "cells": [
  {
   "cell_type": "code",
   "execution_count": 1,
   "id": "11f26837-455a-468f-b38d-4a5cdda2af0d",
   "metadata": {},
   "outputs": [
    {
     "name": "stdout",
     "output_type": "stream",
     "text": [
      "\n",
      "The optimal value is -15.220912604404898\n",
      "A solution x is\n",
      "[-1.1015836  -0.16207264 -0.90072437  0.03042621  0.61108486 -1.13141957\n",
      "  1.1270734   0.87833368  0.48871908  0.89807117]\n",
      "A dual solution is\n",
      "[2.45894663e-09 6.11756417e-01 5.28171745e-01 1.07296862e+00\n",
      " 6.38553178e-09 2.30153871e+00 1.12756409e-09 7.61206895e-01\n",
      " 1.31943164e-08 2.49370376e-01 2.02551844e-09 2.06014070e+00\n",
      " 3.22417209e-01 3.84054335e-01 2.94504800e-09]\n"
     ]
    }
   ],
   "source": [
    "# Import packages.\n",
    "import cvxpy as cp\n",
    "import numpy as np\n",
    "\n",
    "# Generate a random non-trivial linear program.\n",
    "m = 15\n",
    "n = 10\n",
    "np.random.seed(1)\n",
    "s0 = np.random.randn(m)\n",
    "lamb0 = np.maximum(-s0, 0)\n",
    "s0 = np.maximum(s0, 0)\n",
    "x0 = np.random.randn(n)\n",
    "A = np.random.randn(m, n)\n",
    "b = A @ x0 + s0\n",
    "c = -A.T @ lamb0\n",
    "\n",
    "# Define and solve the CVXPY problem.\n",
    "x = cp.Variable(n)\n",
    "prob = cp.Problem(cp.Minimize(c.T@x),\n",
    "                 [A @ x <= b])\n",
    "prob.solve()\n",
    "\n",
    "# Print result.\n",
    "print(\"\\nThe optimal value is\", prob.value)\n",
    "print(\"A solution x is\")\n",
    "print(x.value)\n",
    "print(\"A dual solution is\")\n",
    "print(prob.constraints[0].dual_value)"
   ]
  },
  {
   "cell_type": "code",
   "execution_count": null,
   "id": "afae7a58-1031-419c-9ce1-f7e3644e47af",
   "metadata": {},
   "outputs": [],
   "source": []
  }
 ],
 "metadata": {
  "kernelspec": {
   "display_name": "Python 3 (ipykernel)",
   "language": "python",
   "name": "python3"
  },
  "language_info": {
   "codemirror_mode": {
    "name": "ipython",
    "version": 3
   },
   "file_extension": ".py",
   "mimetype": "text/x-python",
   "name": "python",
   "nbconvert_exporter": "python",
   "pygments_lexer": "ipython3",
   "version": "3.10.0"
  }
 },
 "nbformat": 4,
 "nbformat_minor": 5
}
