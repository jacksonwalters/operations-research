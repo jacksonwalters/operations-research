{
 "cells": [
  {
   "cell_type": "code",
   "execution_count": 1,
   "id": "10618a4b-d935-43e4-bbb5-8c6dc4317f13",
   "metadata": {},
   "outputs": [
    {
     "name": "stdout",
     "output_type": "stream",
     "text": [
      "Restricted license - for non-production use only - expires 2025-11-24\n",
      "Gurobi Optimizer version 11.0.3 build v11.0.3rc0 (mac64[arm] - Darwin 23.5.0 23F79)\n",
      "\n",
      "CPU model: Apple M1\n",
      "Thread count: 8 physical cores, 8 logical processors, using up to 8 threads\n",
      "\n",
      "Optimize a model with 2 rows, 3 columns and 5 nonzeros\n",
      "Model fingerprint: 0x98886187\n",
      "Variable types: 0 continuous, 3 integer (3 binary)\n",
      "Coefficient statistics:\n",
      "  Matrix range     [1e+00, 3e+00]\n",
      "  Objective range  [1e+00, 2e+00]\n",
      "  Bounds range     [1e+00, 1e+00]\n",
      "  RHS range        [1e+00, 4e+00]\n",
      "Found heuristic solution: objective 2.0000000\n",
      "Presolve removed 2 rows and 3 columns\n",
      "Presolve time: 0.00s\n",
      "Presolve: All rows and columns removed\n",
      "\n",
      "Explored 0 nodes (0 simplex iterations) in 0.01 seconds (0.00 work units)\n",
      "Thread count was 1 (of 8 available processors)\n",
      "\n",
      "Solution count 2: 3 2 \n",
      "\n",
      "Optimal solution found (tolerance 1.00e-04)\n",
      "Best objective 3.000000000000e+00, best bound 3.000000000000e+00, gap 0.0000%\n",
      "x 1\n",
      "y 0\n",
      "z 1\n",
      "Obj: 3\n"
     ]
    }
   ],
   "source": [
    "#!/usr/bin/env python3.11\n",
    "\n",
    "# Copyright 2024, Gurobi Optimization, LLC\n",
    "\n",
    "# This example formulates and solves the following simple MIP model:\n",
    "#  maximize\n",
    "#        x +   y + 2 z\n",
    "#  subject to\n",
    "#        x + 2 y + 3 z <= 4\n",
    "#        x +   y       >= 1\n",
    "#        x, y, z binary\n",
    "\n",
    "import gurobipy as gp\n",
    "from gurobipy import GRB\n",
    "\n",
    "try:\n",
    "    # Create a new model\n",
    "    m = gp.Model(\"mip1\")\n",
    "\n",
    "    # Create variables\n",
    "    x = m.addVar(vtype=GRB.BINARY, name=\"x\")\n",
    "    y = m.addVar(vtype=GRB.BINARY, name=\"y\")\n",
    "    z = m.addVar(vtype=GRB.BINARY, name=\"z\")\n",
    "\n",
    "    # Set objective\n",
    "    m.setObjective(x + y + 2 * z, GRB.MAXIMIZE)\n",
    "\n",
    "    # Add constraint: x + 2 y + 3 z <= 4\n",
    "    m.addConstr(x + 2 * y + 3 * z <= 4, \"c0\")\n",
    "\n",
    "    # Add constraint: x + y >= 1\n",
    "    m.addConstr(x + y >= 1, \"c1\")\n",
    "\n",
    "    # Optimize model\n",
    "    m.optimize()\n",
    "\n",
    "    for v in m.getVars():\n",
    "        print(f\"{v.VarName} {v.X:g}\")\n",
    "\n",
    "    print(f\"Obj: {m.ObjVal:g}\")\n",
    "\n",
    "except gp.GurobiError as e:\n",
    "    print(f\"Error code {e.errno}: {e}\")\n",
    "\n",
    "except AttributeError:\n",
    "    print(\"Encountered an attribute error\")"
   ]
  },
  {
   "cell_type": "code",
   "execution_count": null,
   "id": "d9cdbc9f-d358-471b-8698-eabee44f1307",
   "metadata": {},
   "outputs": [],
   "source": []
  }
 ],
 "metadata": {
  "kernelspec": {
   "display_name": "operations-research",
   "language": "python",
   "name": "or"
  },
  "language_info": {
   "codemirror_mode": {
    "name": "ipython",
    "version": 3
   },
   "file_extension": ".py",
   "mimetype": "text/x-python",
   "name": "python",
   "nbconvert_exporter": "python",
   "pygments_lexer": "ipython3",
   "version": "3.10.0"
  }
 },
 "nbformat": 4,
 "nbformat_minor": 5
}
